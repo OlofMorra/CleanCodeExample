{
 "cells": [
  {
   "cell_type": "markdown",
   "id": "7af880c5",
   "metadata": {
    "pycharm": {
     "name": "#%% md\n"
    }
   },
   "source": [
    "Source: https://github.com/emilybache/GildedRose-Refactoring-Kata"
   ]
  },
  {
   "cell_type": "markdown",
   "id": "1e61e423",
   "metadata": {
    "pycharm": {
     "name": "#%% md\n"
    }
   },
   "source": [
    "Gilded Rose Requirements Specification\n",
    "======================================\n",
    "\n",
    "Hi and welcome to team Gilded Rose. As you know, we are a small inn with a prime location in a\n",
    "prominent city ran by a friendly innkeeper named Allison. We also buy and sell only the finest goods.\n",
    "Unfortunately, our goods are constantly degrading in quality as they approach their sell by date. We\n",
    "have a system in place that updates our inventory for us. It was developed by a no-nonsense type named\n",
    "Leeroy, who has moved on to new adventures. Your task is to add the new feature to our system so that\n",
    "we can begin selling a new category of items. First an introduction to our system:\n",
    "\n",
    "\t- All items have a SellIn value which denotes the number of days we have to sell the item\n",
    "\t- All items have a Quality value which denotes how valuable the item is\n",
    "\t- At the end of each day our system lowers both values for every item\n",
    "\n",
    "Pretty simple, right? Well this is where it gets interesting:\n",
    "\n",
    "\t- Once the sell by date has passed, Quality degrades twice as fast\n",
    "\t- The Quality of an item is never negative\n",
    "\t- \"Aged Brie\" actually increases in Quality the older it gets\n",
    "\t- The Quality of an item is never more than 50, except \"Sulfuras\" which always has Quality 85\n",
    "\t- \"Sulfuras\", being a legendary item, never has to be sold or decreased in Quality\n",
    "\t- \"Dutch Data Buster effort\", like aged brie, increases in Quality as its SellIn value approaches, i.e. deadline approaches; Quality increases by 2 when there are 10 days or less and by 3 when there are 5 days or less but Quality drops to 0 after the deadline\n",
    "\n",
    "We have recently signed a supplier of conjured items. This requires an update to our system:\n",
    "\n",
    "\t- \"Conjured\" items degrade in Quality twice as fast as normal items\n",
    "\n",
    "Feel free to make any changes to the UpdateQuality method and add any new code as long as everything\n",
    "still works correctly. However, do not alter the Item class or Items property as those belong to the\n",
    "goblin in the corner who will insta-rage and one-shot you as he doesn't believe in shared code\n",
    "ownership (you can make the UpdateQuality method and Items property static if you like, we'll cover\n",
    "for you)."
   ]
  },
  {
   "cell_type": "code",
   "execution_count": 1,
   "id": "be802480",
   "metadata": {
    "pycharm": {
     "name": "#%%\n"
    }
   },
   "outputs": [],
   "source": [
    "class GildedRose(object):\n",
    "\n",
    "    def __init__(self, items):\n",
    "        self.items = items\n",
    "\n",
    "    def update_quality(self):\n",
    "        for i in self.items:\n",
    "            if i.n != \"Aged Brie\" and i.n != \"Dutch Data Buster effort\":\n",
    "                if i.q > 0:\n",
    "                    if i.n != \"Sulfuras, Hand of Ragnaros\":\n",
    "                        i.q = i.q - 1\n",
    "            else:\n",
    "                if i.q < 50:\n",
    "                    i.q = i.q + 1\n",
    "                    if i.n == \"Dutch Data Buster effort\":\n",
    "                        if i.s < 11:\n",
    "                            if i.q < 50:\n",
    "                                i.q = i.q + 1\n",
    "                        if i.s < 6:\n",
    "                            if i.q < 50:\n",
    "                                i.q = i.q + 1\n",
    "            if i.n != \"Sulfuras, Hand of Ragnaros\":\n",
    "                i.s = i.s - 1\n",
    "            if i.s < 0:\n",
    "                if i.n != \"Aged Brie\":\n",
    "                    if i.n != \"Dutch Data Buster effort\":\n",
    "                        if i.q > 0:\n",
    "                            if i.n != \"Sulfuras, Hand of Ragnaros\":\n",
    "                                i.q = i.q - 1\n",
    "                    else:\n",
    "                        i.q = i.q - i.q\n",
    "                else:\n",
    "                    if i.q < 50:\n",
    "                        i.q = i.q + 1"
   ]
  },
  {
   "cell_type": "code",
   "execution_count": 2,
   "id": "98a3a990",
   "metadata": {
    "pycharm": {
     "name": "#%%\n"
    }
   },
   "outputs": [],
   "source": [
    "class Item:\n",
    "    def __init__(self, name, sell_in, quality):\n",
    "        self.n = name\n",
    "        self.s = sell_in\n",
    "        self.q = quality\n",
    "\n",
    "    def __repr__(self):\n",
    "        return \"%s, sellIn: %s, quality: %s\" % (self.n, self.s, self.q)"
   ]
  },
  {
   "cell_type": "code",
   "execution_count": 3,
   "id": "ff129b8d",
   "metadata": {
    "pycharm": {
     "name": "#%%\n"
    }
   },
   "outputs": [
    {
     "name": "stdout",
     "output_type": "stream",
     "text": [
      "OMGHAI!\n",
      "-------- day 0 --------\n",
      "name, sellIn, quality\n",
      "+5 Dexterity Vest, sellIn: 10, quality: 20\n",
      "Aged Brie, sellIn: 2, quality: 0\n",
      "Elixir of the Mongoose, sellIn: 5, quality: 7\n",
      "Sulfuras, Hand of Ragnaros, sellIn: 0, quality: 85\n",
      "Sulfuras, Hand of Ragnaros, sellIn: -1, quality: 85\n",
      "Dutch Data Buster effort, sellIn: 15, quality: 20\n",
      "Dutch Data Buster effort, sellIn: 10, quality: 49\n",
      "Dutch Data Buster effort, sellIn: 5, quality: 49\n",
      "Conjured Mana Cake, sellIn: 3, quality: 6\n",
      "\n",
      "-------- day 1 --------\n",
      "name, sellIn, quality\n",
      "+5 Dexterity Vest, sellIn: 9, quality: 19\n",
      "Aged Brie, sellIn: 1, quality: 1\n",
      "Elixir of the Mongoose, sellIn: 4, quality: 6\n",
      "Sulfuras, Hand of Ragnaros, sellIn: 0, quality: 85\n",
      "Sulfuras, Hand of Ragnaros, sellIn: -1, quality: 85\n",
      "Dutch Data Buster effort, sellIn: 14, quality: 21\n",
      "Dutch Data Buster effort, sellIn: 9, quality: 50\n",
      "Dutch Data Buster effort, sellIn: 4, quality: 50\n",
      "Conjured Mana Cake, sellIn: 2, quality: 5\n",
      "\n",
      "-------- day 2 --------\n",
      "name, sellIn, quality\n",
      "+5 Dexterity Vest, sellIn: 8, quality: 18\n",
      "Aged Brie, sellIn: 0, quality: 2\n",
      "Elixir of the Mongoose, sellIn: 3, quality: 5\n",
      "Sulfuras, Hand of Ragnaros, sellIn: 0, quality: 85\n",
      "Sulfuras, Hand of Ragnaros, sellIn: -1, quality: 85\n",
      "Dutch Data Buster effort, sellIn: 13, quality: 22\n",
      "Dutch Data Buster effort, sellIn: 8, quality: 50\n",
      "Dutch Data Buster effort, sellIn: 3, quality: 50\n",
      "Conjured Mana Cake, sellIn: 1, quality: 4\n",
      "\n"
     ]
    }
   ],
   "source": [
    "from __future__ import print_function\n",
    "\n",
    "if __name__ == \"__main__\":\n",
    "    print (\"OMGHAI!\")\n",
    "    items = [\n",
    "             Item(name=\"+5 Dexterity Vest\", sell_in=10, quality=20),\n",
    "             Item(name=\"Aged Brie\", sell_in=2, quality=0),\n",
    "             Item(name=\"Elixir of the Mongoose\", sell_in=5, quality=7),\n",
    "             Item(name=\"Sulfuras, Hand of Ragnaros\", sell_in=0, quality=85),\n",
    "             Item(name=\"Sulfuras, Hand of Ragnaros\", sell_in=-1, quality=85),\n",
    "             Item(name=\"Dutch Data Buster effort\", sell_in=15, quality=20),\n",
    "             Item(name=\"Dutch Data Buster effort\", sell_in=10, quality=49),\n",
    "             Item(name=\"Dutch Data Buster effort\", sell_in=5, quality=49),\n",
    "             Item(name=\"Conjured Mana Cake\", sell_in=3, quality=6),  # <-- :O\n",
    "            ]\n",
    "\n",
    "    days = 3\n",
    "    \n",
    "    for day in range(days):\n",
    "        print(\"-------- day %s --------\" % day)\n",
    "        print(\"name, sellIn, quality\")\n",
    "        for item in items:\n",
    "            print(item)\n",
    "        print(\"\")\n",
    "        GildedRose(items).update_quality()"
   ]
  },
  {
   "cell_type": "code",
   "execution_count": null,
   "id": "8df33508",
   "metadata": {
    "pycharm": {
     "name": "#%%\n"
    }
   },
   "outputs": [],
   "source": []
  }
 ],
 "metadata": {
  "kernelspec": {
   "display_name": "Python 3 (ipykernel)",
   "language": "python",
   "name": "python3"
  },
  "language_info": {
   "codemirror_mode": {
    "name": "ipython",
    "version": 3
   },
   "file_extension": ".py",
   "mimetype": "text/x-python",
   "name": "python",
   "nbconvert_exporter": "python",
   "pygments_lexer": "ipython3",
   "version": "3.9.12"
  }
 },
 "nbformat": 4,
 "nbformat_minor": 5
}